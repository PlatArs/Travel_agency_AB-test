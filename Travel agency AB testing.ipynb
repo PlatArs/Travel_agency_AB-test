{
 "cells": [
  {
   "attachments": {},
   "cell_type": "markdown",
   "id": "c8a6af25-08d3-487a-bd90-001772ac9161",
   "metadata": {},
   "source": [
    "## <center> **Анализ результатов A/B-тестирования**"
   ]
  },
  {
   "attachments": {},
   "cell_type": "markdown",
   "id": "d7d45571-6545-4904-a86b-9b3b6b8163d3",
   "metadata": {},
   "source": [
    "Туроператор планирует запустить новую акцию, чтобы продать как можно больше туров. Команда разработала два варианта посадочной страницы официального сайта компании и провела A/B-тестирование.\n",
    "\n",
    "<u>Бизнес задача:</u> проанализировать эффективность обоих вариантов посадочной страницы сразу по двум критериям: конверсии покупки и среднему чеку.  \n",
    " На основе проведенного анализа сделать выводы и принять решение: какой из вариантов дизайна более предпочтительный.\n",
    "\n",
    "Фирма предлагает следующие варианты туров и их соответствующие стоимости:\n",
    "* Таиланд — 100000 рублей;\n",
    "* Турция — 60000 рублей;\n",
    "* Мальдивы — 200000 рублей;\n",
    "* Санкт-Петербург — 10000 рублей;\n",
    "* Камчатка — 150000 рублей."
   ]
  },
  {
   "attachments": {},
   "cell_type": "markdown",
   "id": "87917505",
   "metadata": {},
   "source": [
    "#### Импорт библиотек и чтение данных"
   ]
  },
  {
   "cell_type": "code",
   "execution_count": 653,
   "id": "a974b482-e192-4014-8520-8a5c0c946da6",
   "metadata": {},
   "outputs": [],
   "source": [
    "import pandas as pd\n",
    "import matplotlib.pyplot as plt\n",
    "import seaborn as sns\n",
    "from scipy.stats import norm\n",
    "from scipy.stats import t\n",
    "from scipy.stats import ttest_ind, shapiro, f_oneway, mannwhitneyu\n",
    "from statsmodels.stats.proportion import proportions_ztest\n",
    "import warnings\n",
    "warnings.filterwarnings('ignore', category=FutureWarning)"
   ]
  },
  {
   "cell_type": "code",
   "execution_count": 654,
   "id": "b0d18245-b9da-44bd-8aea-d272ea74b63a",
   "metadata": {},
   "outputs": [
    {
     "data": {
      "text/html": [
       "<div>\n",
       "<style scoped>\n",
       "    .dataframe tbody tr th:only-of-type {\n",
       "        vertical-align: middle;\n",
       "    }\n",
       "\n",
       "    .dataframe tbody tr th {\n",
       "        vertical-align: top;\n",
       "    }\n",
       "\n",
       "    .dataframe thead th {\n",
       "        text-align: right;\n",
       "    }\n",
       "</style>\n",
       "<table border=\"1\" class=\"dataframe\">\n",
       "  <thead>\n",
       "    <tr style=\"text-align: right;\">\n",
       "      <th></th>\n",
       "      <th>user_id</th>\n",
       "      <th>date</th>\n",
       "      <th>group</th>\n",
       "      <th>purchase</th>\n",
       "      <th>price</th>\n",
       "    </tr>\n",
       "  </thead>\n",
       "  <tbody>\n",
       "    <tr>\n",
       "      <th>0</th>\n",
       "      <td>851104</td>\n",
       "      <td>2021-01-21</td>\n",
       "      <td>A</td>\n",
       "      <td>0</td>\n",
       "      <td>0</td>\n",
       "    </tr>\n",
       "    <tr>\n",
       "      <th>1</th>\n",
       "      <td>804228</td>\n",
       "      <td>2021-01-12</td>\n",
       "      <td>A</td>\n",
       "      <td>0</td>\n",
       "      <td>0</td>\n",
       "    </tr>\n",
       "    <tr>\n",
       "      <th>2</th>\n",
       "      <td>661590</td>\n",
       "      <td>2021-01-11</td>\n",
       "      <td>B</td>\n",
       "      <td>0</td>\n",
       "      <td>0</td>\n",
       "    </tr>\n",
       "    <tr>\n",
       "      <th>3</th>\n",
       "      <td>853541</td>\n",
       "      <td>2021-01-08</td>\n",
       "      <td>B</td>\n",
       "      <td>0</td>\n",
       "      <td>0</td>\n",
       "    </tr>\n",
       "    <tr>\n",
       "      <th>4</th>\n",
       "      <td>864975</td>\n",
       "      <td>2021-01-21</td>\n",
       "      <td>A</td>\n",
       "      <td>1</td>\n",
       "      <td>150000</td>\n",
       "    </tr>\n",
       "    <tr>\n",
       "      <th>...</th>\n",
       "      <td>...</td>\n",
       "      <td>...</td>\n",
       "      <td>...</td>\n",
       "      <td>...</td>\n",
       "      <td>...</td>\n",
       "    </tr>\n",
       "    <tr>\n",
       "      <th>294473</th>\n",
       "      <td>751197</td>\n",
       "      <td>2021-01-03</td>\n",
       "      <td>A</td>\n",
       "      <td>0</td>\n",
       "      <td>0</td>\n",
       "    </tr>\n",
       "    <tr>\n",
       "      <th>294474</th>\n",
       "      <td>945152</td>\n",
       "      <td>2021-01-12</td>\n",
       "      <td>A</td>\n",
       "      <td>0</td>\n",
       "      <td>0</td>\n",
       "    </tr>\n",
       "    <tr>\n",
       "      <th>294475</th>\n",
       "      <td>734608</td>\n",
       "      <td>2021-01-22</td>\n",
       "      <td>A</td>\n",
       "      <td>0</td>\n",
       "      <td>0</td>\n",
       "    </tr>\n",
       "    <tr>\n",
       "      <th>294476</th>\n",
       "      <td>697314</td>\n",
       "      <td>2021-01-15</td>\n",
       "      <td>A</td>\n",
       "      <td>0</td>\n",
       "      <td>0</td>\n",
       "    </tr>\n",
       "    <tr>\n",
       "      <th>294477</th>\n",
       "      <td>715931</td>\n",
       "      <td>2021-01-16</td>\n",
       "      <td>B</td>\n",
       "      <td>0</td>\n",
       "      <td>0</td>\n",
       "    </tr>\n",
       "  </tbody>\n",
       "</table>\n",
       "<p>294478 rows × 5 columns</p>\n",
       "</div>"
      ],
      "text/plain": [
       "        user_id        date group  purchase   price\n",
       "0        851104  2021-01-21     A         0       0\n",
       "1        804228  2021-01-12     A         0       0\n",
       "2        661590  2021-01-11     B         0       0\n",
       "3        853541  2021-01-08     B         0       0\n",
       "4        864975  2021-01-21     A         1  150000\n",
       "...         ...         ...   ...       ...     ...\n",
       "294473   751197  2021-01-03     A         0       0\n",
       "294474   945152  2021-01-12     A         0       0\n",
       "294475   734608  2021-01-22     A         0       0\n",
       "294476   697314  2021-01-15     A         0       0\n",
       "294477   715931  2021-01-16     B         0       0\n",
       "\n",
       "[294478 rows x 5 columns]"
      ]
     },
     "execution_count": 654,
     "metadata": {},
     "output_type": "execute_result"
    }
   ],
   "source": [
    "data = pd.read_csv('ab_data_tourist.csv')\n",
    "data = data.copy()\n",
    "data"
   ]
  },
  {
   "attachments": {},
   "cell_type": "markdown",
   "id": "2fc48225-26ac-49c4-b99d-8b2a03dd74a1",
   "metadata": {
    "tags": []
   },
   "source": [
    "## **Задание 7.1.**\n",
    "Какой тип данных имеет столбец date?"
   ]
  },
  {
   "cell_type": "code",
   "execution_count": 655,
   "id": "23496521-4878-46e2-ab02-1a98be14884a",
   "metadata": {},
   "outputs": [
    {
     "name": "stdout",
     "output_type": "stream",
     "text": [
      "<class 'pandas.core.frame.DataFrame'>\n",
      "RangeIndex: 294478 entries, 0 to 294477\n",
      "Data columns (total 5 columns):\n",
      " #   Column    Non-Null Count   Dtype \n",
      "---  ------    --------------   ----- \n",
      " 0   user_id   294478 non-null  int64 \n",
      " 1   date      294478 non-null  object\n",
      " 2   group     294478 non-null  object\n",
      " 3   purchase  294478 non-null  int64 \n",
      " 4   price     294478 non-null  int64 \n",
      "dtypes: int64(3), object(2)\n",
      "memory usage: 11.2+ MB\n"
     ]
    },
    {
     "data": {
      "text/plain": [
       "None"
      ]
     },
     "metadata": {},
     "output_type": "display_data"
    },
    {
     "data": {
      "text/plain": [
       "dtype('O')"
      ]
     },
     "execution_count": 655,
     "metadata": {},
     "output_type": "execute_result"
    }
   ],
   "source": [
    "display(data.info())\n",
    "data['date'].dtype\n",
    "# Тип данных у признака date - object"
   ]
  },
  {
   "attachments": {},
   "cell_type": "markdown",
   "id": "946d017d-b4fe-4a17-b91d-0ce369d1ab2e",
   "metadata": {
    "tags": []
   },
   "source": [
    "## **Задание 7.2.**\n",
    "\n",
    "Убедитесь в равной длительности проведения тестирования для каждой из группы.  \n",
    "Для этого сгруппируйте данные по признаку группы и определите первую и последнюю дату наблюдения для каждой из групп. \n",
    "\n",
    "В какой промежуток времени проводился A/B-тест?\n"
   ]
  },
  {
   "cell_type": "code",
   "execution_count": 656,
   "id": "604c619d-6338-45c8-8248-ac098a2366bb",
   "metadata": {},
   "outputs": [
    {
     "name": "stdout",
     "output_type": "stream",
     "text": [
      "Тест проводился с  2021-01-02 по 2021-01-24\n"
     ]
    }
   ],
   "source": [
    "data['date'] = pd.to_datetime(data['date'])\n",
    "data['date'] = data['date'].dt.date\n",
    "data_group = data.groupby(['group'])['date'].agg(['min', 'max'])\n",
    "data_group\n",
    "print('Тест проводился с ', data_group['min'][0],'по',data_group['max'][0])"
   ]
  },
  {
   "attachments": {},
   "cell_type": "markdown",
   "id": "e04eb341-52ae-48b3-9dc2-0578ca91641a",
   "metadata": {},
   "source": [
    "## **Задание 7.3.**\n",
    "\n",
    "* Чему равно количество посещений сайта в группах А и B?\n",
    "\n",
    "* Чему равно суммарное количество покупок в группах А и B?\n",
    "\n",
    "* Чему равна сумма всех покупок в группах А и B? Ответ приведите в миллионах рублей. Например, 185.52 млн. руб."
   ]
  },
  {
   "cell_type": "code",
   "execution_count": 657,
   "id": "02bf0148-488e-4f34-95bf-37794b2fa98b",
   "metadata": {},
   "outputs": [
    {
     "name": "stdout",
     "output_type": "stream",
     "text": [
      "Количество посещений сайта в группе А 147202, в группе B 147276\n",
      "Количество покупок в группе А 17723, в группе B 17514\n",
      "Общая сумма покупок в группе А  1436.26 млн. руб., в группе B  1554.10 млн. руб.\n"
     ]
    }
   ],
   "source": [
    "A_count = data[data['group'] == 'A']['user_id'].count()\n",
    "B_count = data[data['group'] == 'B']['user_id'].count()\n",
    "print(f'Количество посещений сайта в группе А {A_count}, в группе B {B_count}')\n",
    "\n",
    "A_sum = data[data['group'] == 'A']['purchase'].sum()\n",
    "B_sum = data[data['group'] == 'B']['purchase'].sum()\n",
    "print(f'Количество покупок в группе А {A_sum}, в группе B {B_sum}')\n",
    "\n",
    "A_sum = (data[data['group'] == 'A']['price'].sum())/1e6\n",
    "B_sum = (data[data['group'] == 'B']['price'].sum())/1e6\n",
    "print(f'Общая сумма покупок в группе А {A_sum: .2f} млн. руб., в группе B {B_sum: .2f} млн. руб.')\n",
    "\n"
   ]
  },
  {
   "attachments": {},
   "cell_type": "markdown",
   "id": "2434db1b-17e6-4977-8e54-1df875c6f221",
   "metadata": {
    "tags": []
   },
   "source": [
    "## **Задание 7.4.**\n",
    "\n",
    "Проверьте, есть ли пользователи, которые в процессе A/B-теста попали в обе тестовые группы? Если да, то сколько таких уникальных пользователей, если нет - введите в поле для ответа 0?\n",
    "\n",
    "**Подсказка:**\n",
    "\n",
    "*Создайте множество пользователей группы А и множество пользователей группы B. Пересеките два этих множества (операция intersection) и вычислите количество элементов в полученном множестве.*\n"
   ]
  },
  {
   "cell_type": "code",
   "execution_count": 658,
   "id": "57a2d711-057d-4f8b-9f56-df0f772d41c8",
   "metadata": {},
   "outputs": [
    {
     "name": "stdout",
     "output_type": "stream",
     "text": [
      "Количество уникальных пользователей в обеих группах 1895\n"
     ]
    }
   ],
   "source": [
    "data_a = set(data[data['group'] == 'A']['user_id'])\n",
    "data_b = set(data[data['group'] == 'B']['user_id'])\n",
    "print(f'Количество уникальных пользователей в обеих группах {len(data_a.intersection(data_b))}')"
   ]
  },
  {
   "attachments": {},
   "cell_type": "markdown",
   "id": "118b1904-7d7a-4935-825e-535da45c611b",
   "metadata": {
    "tags": []
   },
   "source": [
    "Исключаем пересечённых пользователей:"
   ]
  },
  {
   "cell_type": "code",
   "execution_count": 659,
   "id": "f618b34b-35a3-4bf1-8d6d-38b3401930b7",
   "metadata": {},
   "outputs": [],
   "source": [
    "user_intersection = data_a.intersection(data_b)\n",
    "data = data[data['user_id'].apply(lambda x: x not in user_intersection)]\n"
   ]
  },
  {
   "attachments": {},
   "cell_type": "markdown",
   "id": "2ddf6b2c-7987-41f3-82b1-8992630ae97b",
   "metadata": {
    "tags": []
   },
   "source": [
    "## **Задание 7.5.**\n",
    "\n",
    "\n",
    "Группируем данные по признаку группы.\n",
    "* количество посещений\n",
    "* количество совершенных покупок\n",
    "* сумма всех покупок в группе\n",
    "\n",
    "\n",
    "Чему на этот раз равно количество посещений сайта в группах А и B?\n"
   ]
  },
  {
   "cell_type": "code",
   "execution_count": 660,
   "id": "5c0c018e-a250-48e9-b72a-e3c7be586ebd",
   "metadata": {},
   "outputs": [
    {
     "data": {
      "text/html": [
       "<div>\n",
       "<style scoped>\n",
       "    .dataframe tbody tr th:only-of-type {\n",
       "        vertical-align: middle;\n",
       "    }\n",
       "\n",
       "    .dataframe tbody tr th {\n",
       "        vertical-align: top;\n",
       "    }\n",
       "\n",
       "    .dataframe thead th {\n",
       "        text-align: right;\n",
       "    }\n",
       "</style>\n",
       "<table border=\"1\" class=\"dataframe\">\n",
       "  <thead>\n",
       "    <tr style=\"text-align: right;\">\n",
       "      <th></th>\n",
       "      <th>group</th>\n",
       "      <th>user_id</th>\n",
       "      <th>purchase</th>\n",
       "      <th>price</th>\n",
       "    </tr>\n",
       "  </thead>\n",
       "  <tbody>\n",
       "    <tr>\n",
       "      <th>0</th>\n",
       "      <td>A</td>\n",
       "      <td>145307</td>\n",
       "      <td>17487</td>\n",
       "      <td>1417780000</td>\n",
       "    </tr>\n",
       "    <tr>\n",
       "      <th>1</th>\n",
       "      <td>B</td>\n",
       "      <td>145381</td>\n",
       "      <td>17290</td>\n",
       "      <td>1533010000</td>\n",
       "    </tr>\n",
       "  </tbody>\n",
       "</table>\n",
       "</div>"
      ],
      "text/plain": [
       "  group  user_id  purchase       price\n",
       "0     A   145307     17487  1417780000\n",
       "1     B   145381     17290  1533010000"
      ]
     },
     "execution_count": 660,
     "metadata": {},
     "output_type": "execute_result"
    }
   ],
   "source": [
    "regroup_data = data.groupby('group')['user_id', 'purchase', 'price'].agg({'user_id':'count', 'purchase':'sum', 'price':'sum'}).reset_index()\n",
    "regroup_data = regroup_data.rename({'user_id':'count_visits', 'purchase':'count_purchases', 'price':'sum_price'})\n",
    "regroup_data"
   ]
  },
  {
   "attachments": {},
   "cell_type": "markdown",
   "id": "4ea1b65b-475e-4bff-9460-fac0acdb9620",
   "metadata": {},
   "source": [
    "Количество посещений обоих вариантов посадочной странице в разных группах почти равны. Можно сказать, что выборки сбалансированны.  \n",
    "Сами выборки достаточно большие для проведения теста."
   ]
  },
  {
   "attachments": {},
   "cell_type": "markdown",
   "id": "afb2ee0a-31d1-45a5-be42-a2bf168b9448",
   "metadata": {
    "tags": []
   },
   "source": [
    "## **Задание 7.6.**\n",
    "\n",
    "\n",
    "* Чему равна конверсия в группах? Ответ приведите в процентах и округлите до сотых. Например, 75.12 %\n",
    "* Чему равен средний чек в группах? Ответ приведите в рублях и округлите до целых. Например, 120519 рублей."
   ]
  },
  {
   "cell_type": "code",
   "execution_count": 661,
   "id": "bd9c3b3e-5956-41a8-bae0-43693f6de1f2",
   "metadata": {},
   "outputs": [
    {
     "data": {
      "text/html": [
       "<div>\n",
       "<style scoped>\n",
       "    .dataframe tbody tr th:only-of-type {\n",
       "        vertical-align: middle;\n",
       "    }\n",
       "\n",
       "    .dataframe tbody tr th {\n",
       "        vertical-align: top;\n",
       "    }\n",
       "\n",
       "    .dataframe thead th {\n",
       "        text-align: right;\n",
       "    }\n",
       "</style>\n",
       "<table border=\"1\" class=\"dataframe\">\n",
       "  <thead>\n",
       "    <tr style=\"text-align: right;\">\n",
       "      <th></th>\n",
       "      <th>group</th>\n",
       "      <th>user_id</th>\n",
       "      <th>purchase</th>\n",
       "      <th>price</th>\n",
       "      <th>mean_check</th>\n",
       "      <th>conversion</th>\n",
       "    </tr>\n",
       "  </thead>\n",
       "  <tbody>\n",
       "    <tr>\n",
       "      <th>0</th>\n",
       "      <td>A</td>\n",
       "      <td>145307</td>\n",
       "      <td>17487</td>\n",
       "      <td>1417780000</td>\n",
       "      <td>81076.0</td>\n",
       "      <td>12.03</td>\n",
       "    </tr>\n",
       "    <tr>\n",
       "      <th>1</th>\n",
       "      <td>B</td>\n",
       "      <td>145381</td>\n",
       "      <td>17290</td>\n",
       "      <td>1533010000</td>\n",
       "      <td>88665.0</td>\n",
       "      <td>11.89</td>\n",
       "    </tr>\n",
       "  </tbody>\n",
       "</table>\n",
       "</div>"
      ],
      "text/plain": [
       "  group  user_id  purchase       price  mean_check  conversion\n",
       "0     A   145307     17487  1417780000     81076.0       12.03\n",
       "1     B   145381     17290  1533010000     88665.0       11.89"
      ]
     },
     "execution_count": 661,
     "metadata": {},
     "output_type": "execute_result"
    }
   ],
   "source": [
    "regroup_data[\"mean_check\"] = round(regroup_data[\"price\"]/regroup_data['purchase'])\n",
    "regroup_data[\"conversion\"] = round(regroup_data['purchase']/regroup_data['user_id']*100, 2)\n",
    "regroup_data"
   ]
  },
  {
   "attachments": {},
   "cell_type": "markdown",
   "id": "9e88c883-84f9-44ec-accd-04d5d459b261",
   "metadata": {},
   "source": [
    "По предварительным оценкам можно предположить, что по показателю конверсии эффектианее вариант А, но средний чек выше у группы В.  \n",
    "В любом случае, пока рано делать точные выводы, нужно провести дальнейшие тесты"
   ]
  },
  {
   "attachments": {},
   "cell_type": "markdown",
   "id": "7f9f1ae0-f12f-49b3-8b57-1c299c208c49",
   "metadata": {
    "tags": []
   },
   "source": [
    "## **Задание 7.7.**\n",
    "\n",
    "Построить сводную таблицу, которая покажет зависимость количества продаж от группы и цены тура. "
   ]
  },
  {
   "cell_type": "code",
   "execution_count": 662,
   "id": "78d46a02-cc30-4783-9b18-9fc9c6a08012",
   "metadata": {},
   "outputs": [
    {
     "data": {
      "text/plain": [
       "group\n",
       "A    5271\n",
       "B    1730\n",
       "Name: 60000, dtype: int64"
      ]
     },
     "metadata": {},
     "output_type": "display_data"
    }
   ],
   "source": [
    "pivot_data = data.pivot_table(values='purchase', index='group', columns = ['price'], aggfunc={'purchase':'sum'})\n",
    "pivot_data = pivot_data.drop(columns=0)\n",
    "display(pivot_data.iloc[:, 1])\n"
   ]
  },
  {
   "attachments": {},
   "cell_type": "markdown",
   "id": "977423ed-8f8d-475c-b773-621edd95338d",
   "metadata": {},
   "source": [
    "Визуализируйте полученную сводную таблицу с помощью тепловой карты с аннотацией. \n",
    "Чему равно количество проданных туров за 60000 рублей в группах?"
   ]
  },
  {
   "cell_type": "code",
   "execution_count": 663,
   "id": "f634fa8d-585c-42e3-b7d5-78e8d9eaa8c5",
   "metadata": {},
   "outputs": [
    {
     "data": {
      "text/plain": [
       "<AxesSubplot: xlabel='price', ylabel='group'>"
      ]
     },
     "execution_count": 663,
     "metadata": {},
     "output_type": "execute_result"
    },
    {
     "data": {
      "image/png": "[encoded data removed]",
      "text/plain": [
       "<Figure size 640x480 with 2 Axes>"
      ]
     },
     "metadata": {},
     "output_type": "display_data"
    }
   ],
   "source": [
    "sns.heatmap(pivot_data, annot=True, vmin=0, vmax=6000, cmap=\"YlGnBu\", fmt=\".0f\")"
   ]
  },
  {
   "attachments": {},
   "cell_type": "markdown",
   "id": "6d13fd45-e3df-468f-9d32-1fc45d38b10c",
   "metadata": {},
   "source": [
    "По тепловой карте видно, что при цене тура в 10000 рублей количества продаж примерно одинаковы.  \n",
    "При 60000 в группе А количество больше.  \n",
    "А при 100000 рублей наоборот - в группе А меньше, чем в В.\n",
    "При 150000 и 200000 - также примерно равны.  \n",
    "О какой-то зависимости сложно говорить. Но заметна тенденция на уменьшение количества продаж вцелом при увеличении цены.\n"
   ]
  },
  {
   "attachments": {},
   "cell_type": "markdown",
   "id": "8f021fb4-d0f6-4e43-b518-1a96c07a4531",
   "metadata": {
    "tags": []
   },
   "source": [
    "## **Задание 7.8.**\n",
    "\n",
    "Добавим в таблицу информацию о ежедневной конверсиив группе и ежедневном среднем чеке\n",
    "* Чему равна конверсия 3 января 2021 года? Ответ приведите в процентах и округлите до сотых.\n",
    "\n",
    "* Чему равен средний чек 3 января 2021 года? Ответ приведите в рублях и округлите до целого."
   ]
  },
  {
   "cell_type": "code",
   "execution_count": 664,
   "id": "4503b528-412e-433a-bc03-da7da52fa1a3",
   "metadata": {},
   "outputs": [
    {
     "name": "stdout",
     "output_type": "stream",
     "text": [
      "Конверсия за 3 января 2021 года:\n",
      "   group  conversion\n",
      "1      A       11.34\n",
      "24     B       11.39\n",
      "Средний чек за 3 января 2021 года:\n",
      "   group  daily_check\n",
      "1      A     82887.70\n",
      "24     B     87480.11\n"
     ]
    }
   ],
   "source": [
    "group_date = data.groupby(['group', 'date']).agg({'user_id':'count', 'purchase':'sum', 'price':'sum'})\n",
    "\n",
    "group_date['conversion'] = group_date['purchase']/group_date['user_id']*100\n",
    "group_date['daily_check'] = round(group_date['price']/group_date['purchase'], 2)\n",
    "\n",
    "print_data = group_date.reset_index()\n",
    "print('Конверсия за 3 января 2021 года:', print_data[print_data['date'] == pd.to_datetime('2021-01-03')][['group', 'conversion']].round(2), sep='\\n')\n",
    "print('Средний чек за 3 января 2021 года:', print_data[print_data['date'] == pd.to_datetime('2021-01-03')][['group', 'daily_check']].round(2), sep='\\n')"
   ]
  },
  {
   "attachments": {},
   "cell_type": "markdown",
   "id": "bc8e241b-1ef1-4f67-ab90-77251889b7f2",
   "metadata": {},
   "source": [
    "## **Задание 7.9.** \n",
    "\n",
    "Добавим:\n",
    "* кумулятивное количество посещений страницы\n",
    "* кумулятивное количество покупок\n",
    "* кумулятивную сумму покупок\n",
    "* кумулятивную конверсию\n",
    "* кумулятивный средний чек\n",
    "\n",
    "Не забудьте при расчете кумулятивной суммы сгруппировать данные по группам. \n",
    "\n",
    "Вычислите кумулятивную конверсию и кумулятивный средний чек на основе полученных кумулятивных показателей. \n",
    "\n",
    "* Какая **кумулятивная** конверсия была в группе B на 20 января? Ответ приведите в процентах, округлив до сотых.\n",
    "* Какой **кумулятивный** средний чек был в группе А на 12 января 2021 года? Ответ приведите в рублях, округлив до целых."
   ]
  },
  {
   "cell_type": "code",
   "execution_count": 665,
   "id": "afe59f9a-8d39-45c1-a14f-9f62091d81a1",
   "metadata": {},
   "outputs": [
    {
     "name": "stdout",
     "output_type": "stream",
     "text": [
      "Кумулятивная конверсия в группе B на 20 января:\n",
      "41    11.9\n",
      "Name: cum_conversion, dtype: float64\n",
      "Кумулятивный средний чек в группе А на 12 января 2021 года:\n",
      "10    81492.0\n",
      "Name: cum_daily_check, dtype: float64\n"
     ]
    }
   ],
   "source": [
    "\n",
    "group_date['cum_visit'] = group_date.groupby(['group'])['user_id'].cumsum()\n",
    "group_date['cum_purchase'] = group_date.groupby(['group'])['purchase'].cumsum()\n",
    "group_date['cum_price'] = group_date.groupby(['group'])['price'].cumsum()\n",
    "\n",
    "group_date['cum_conversion'] = group_date['cum_purchase']/group_date['cum_visit']*100\n",
    "group_date['cum_daily_check'] = group_date['cum_price']/group_date['cum_purchase']\n",
    "group_date = group_date.reset_index()\n",
    "\n",
    "print(\n",
    "    'Кумулятивная конверсия в группе B на 20 января:', \n",
    "    group_date[(group_date['date'] == pd.to_datetime('2021-01-20')) & (group_date['group'] == 'B')]['cum_conversion'].round(2), \n",
    "    sep='\\n'\n",
    "    )\n",
    "print(\n",
    "    'Кумулятивный средний чек в группе А на 12 января 2021 года:', \n",
    "    group_date[(group_date['date'] == pd.to_datetime('2021-01-12')) & (group_date['group'] == 'A')]['cum_daily_check'].round(), \n",
    "    sep='\\n'\n",
    "    )"
   ]
  },
  {
   "attachments": {},
   "cell_type": "markdown",
   "id": "c252b8ba-371b-4795-8fc3-a62317e9ba39",
   "metadata": {},
   "source": [
    "Построим кумулятивные графики конверсии и среднего чека в каждой группе по дням. "
   ]
  },
  {
   "cell_type": "code",
   "execution_count": 666,
   "id": "27e23d20-7ed6-4a26-973d-6d0320b81adb",
   "metadata": {},
   "outputs": [
    {
     "data": {
      "text/plain": [
       "<AxesSubplot: xlabel='date', ylabel='cum_daily_check'>"
      ]
     },
     "execution_count": 666,
     "metadata": {},
     "output_type": "execute_result"
    },
    {
     "data": {
      "image/png": "[encoded data removed]",
      "text/plain": [
       "<Figure size 1500x500 with 2 Axes>"
      ]
     },
     "metadata": {},
     "output_type": "display_data"
    }
   ],
   "source": [
    "fig, axes= plt.subplots(1, 2, figsize=(15, 5))\n",
    "sns.lineplot(x='date', y='cum_conversion', data=group_date, hue='group', ax=axes[0])\n",
    "sns.lineplot(x='date', y='cum_daily_check', data=group_date, hue='group', ax=axes[1])\n"
   ]
  },
  {
   "attachments": {},
   "cell_type": "markdown",
   "id": "f645f8e5-ad16-4b3b-8228-fbdeeb286833",
   "metadata": {},
   "source": [
    "Согласно построенным графикам, можно наблюдать, что конверсия и средний чек со временем стабилизировались и не пересекаются. Поэтому можно сказать, что тест А/В завершен.  \n",
    "Мы видим, что конверсия в группе А выше, чем в В, но средний чек больше в группе А."
   ]
  },
  {
   "attachments": {},
   "cell_type": "markdown",
   "id": "2ecaa382-56e2-47f4-b086-24b4742570a3",
   "metadata": {
    "tags": []
   },
   "source": [
    "## **Задание 7.10.**\n",
    "\n",
    "Провести тестирование при следующих нулевой и альтернативной гипотезе:\n",
    "* $H_0$: Конверсии в группах А и B равны; \n",
    "* $H_1$: Конверсия в группе А больше чем конверсия в группе B;\n",
    "\n"
   ]
  },
  {
   "cell_type": "code",
   "execution_count": 667,
   "id": "9dd1f6fd-2fa0-4a2f-8181-dbed4c302bce",
   "metadata": {},
   "outputs": [
    {
     "name": "stdout",
     "output_type": "stream",
     "text": [
      "p-value:  0.88\n",
      "Принимаем нулевую гипотезу, что конверсии в группах А и B равны\n"
     ]
    }
   ],
   "source": [
    "# считаем количество успешных действий и количество наблюдений\n",
    "z_data = data.groupby('group')['purchase'].agg(\n",
    "    ['sum', 'count']\n",
    ")\n",
    "\n",
    "# Устанавливаем гипотезы: \n",
    "H0 = 'конверсии в группах А и B равны'\n",
    "H1 = 'конверсия в группе А больше чем конверсия в группе B'\n",
    "alpha = 0.05 # уровень значимости\n",
    "# вычисляем значение p-value для z-теста\n",
    "_, p_value = proportions_ztest(\n",
    "    count=z_data['sum'], #число успешных действий\n",
    "    nobs=z_data['count'], #все наблюдения\n",
    "    alternative='smaller')\n",
    "\n",
    "\n",
    "print('p-value: ', round(p_value, 2))\n",
    "\n",
    "if (p_value < alpha): \n",
    "    print(\"Отвергаем нулевую гипотезу, что {}\".format(H0))\n",
    "    print(\"Альтернативная гипотеза - {}\".format(H1))\n",
    "else:\n",
    "    print(\"Принимаем нулевую гипотезу, что {}\".format(H0))"
   ]
  },
  {
   "attachments": {},
   "cell_type": "markdown",
   "id": "da794b48-80e3-47af-aceb-084a1862c86b",
   "metadata": {},
   "source": [
    "Исходя из совершённого теста моэно сказать, что статистической разницы между конверсиями в группах А и B нет. И мы не будем отвергать нулевую гипотезу."
   ]
  },
  {
   "attachments": {},
   "cell_type": "markdown",
   "id": "32c5a1af-8cb2-4f3c-a126-410b70fb3ff3",
   "metadata": {
    "tags": []
   },
   "source": [
    "## **Задание 7.11.**\n",
    "Подтвердить выводы предыдущего теста, построив 95%-ый доверительный интервал для конверсий и разницы между ними."
   ]
  },
  {
   "cell_type": "code",
   "execution_count": 668,
   "id": "e9decb7d-ff5e-40a6-8b71-63627c4ef64a",
   "metadata": {},
   "outputs": [
    {
     "name": "stdout",
     "output_type": "stream",
     "text": [
      "Доверительный интервал для конверсии группы А: (11.87, 12.2)\n",
      "Доверительный интервал для конверсии группы B: (11.73, 12.06)\n",
      "\n",
      "Доверительный интервал для разности конверсий: (-0.38, 0.09)\n"
     ]
    }
   ],
   "source": [
    "# группируем по группам в две таблицы\n",
    "a_data = data[data['group'] == 'A']\n",
    "b_data = data[data['group'] == 'B']\n",
    "\n",
    "# Функция вычисления доверительного интервала пропорции\n",
    "def proportions_conf_interval(n, x_p, gamma=0.95):   \n",
    "    alpha = 1 - gamma # уровень значимости\n",
    "    z_crit = -norm.ppf(alpha/2) # z критическое\n",
    "    eps = z_crit * (x_p * (1 - x_p) / n) ** 0.5 #погрешность\n",
    "    lower_bound = x_p - eps # левая (нижняя) граница\n",
    "    upper_bound = x_p + eps # правая (верхняя) граница\n",
    "    \n",
    "    return round(lower_bound * 100, 2), round(upper_bound * 100, 2)\n",
    "\n",
    "# Применяю функцию к данным группы А и группы B:\n",
    "# A\n",
    "conf_interval_a = proportions_conf_interval(\n",
    "n=a_data['user_id'].count(), # размер выборки\n",
    "x_p=a_data['purchase'].mean() # выборочная пропорция\n",
    ")\n",
    "# B\n",
    "conf_interval_b = proportions_conf_interval(\n",
    "n=b_data['user_id'].count(), # размер выборки\n",
    "x_p=b_data['purchase'].mean() # выборочная пропорция\n",
    ")\n",
    "print('Доверительный интервал для конверсии группы А: {}'.format(conf_interval_a))\n",
    "print('Доверительный интервал для конверсии группы B: {}'.format(conf_interval_b))\n",
    "\n",
    "\n",
    "\n",
    "# Функция вычисления доверительного интервала разницы пропорций\n",
    "def diff_proportions_conf_interval(na, nb, xpa, xpb, gamma=0.95):\n",
    "    alpha = 1 - gamma # уровень значимости\n",
    "    diff = xpb - xpa # выборочная разница конверсий групп B и A\n",
    "    z_crit = -norm.ppf(alpha/2) # z критическое\n",
    "    eps = z_crit * (xpa * (1 - xpa)/na + xpb * (1 - xpb)/nb) ** 0.5 # погрешность\n",
    "    lower_bound = diff - eps # левая (нижняя) граница\n",
    "    upper_bound = diff + eps # правая (верхняя) граница\n",
    "    # возвращаем кортеж из округлённых границ интервала\n",
    "    return round(lower_bound *100, 2), round(upper_bound * 100, 2)\n",
    "\n",
    "na = a_data['user_id'].count()\n",
    "nb = b_data['user_id'].count()\n",
    "\n",
    "xpa = a_data['purchase'].mean()\n",
    "xpb = b_data['purchase'].mean()\n",
    "\n",
    "# строим доверительный интервал для разности конверсий\n",
    "diff_inverval = diff_proportions_conf_interval(na, nb, xpa, xpb)\n",
    "print('')\n",
    "print('Доверительный интервал для разности конверсий: {}'.format(diff_inverval))"
   ]
  },
  {
   "attachments": {},
   "cell_type": "markdown",
   "id": "9332372d-66b2-45e9-a74c-f5d8b1d44afb",
   "metadata": {},
   "source": [
    " Между доверительными интервалами для групп А и В есть перекрытие. Согласно проведённому тесту статистическая разница между конверсиями в группах А и B отсутствует, так как доверительный интервал для разности конверсий включает 0."
   ]
  },
  {
   "attachments": {},
   "cell_type": "markdown",
   "id": "73c54883-b919-4889-bbf2-e1bdeb0b7055",
   "metadata": {},
   "source": [
    "## **Задание 7.12.**\n",
    "\n",
    "Проверим гипотезу о нормальности распределения ежедневного среднего чека в каждой из групп тестирования. \n"
   ]
  },
  {
   "cell_type": "code",
   "execution_count": 669,
   "id": "898041ae-de7e-4b74-975e-111d494fbb82",
   "metadata": {},
   "outputs": [
    {
     "name": "stdout",
     "output_type": "stream",
     "text": [
      "p-value группы А 0.25\n",
      "p-value группы B 0.09\n",
      "Принимаем нулевую гипотезу, что распределения в обеих группах нормальные\n"
     ]
    }
   ],
   "source": [
    "H0 = 'распределения в обеих группах нормальные'\n",
    "H1 = 'распределение в одной или обеих группах отлично от нормального'\n",
    "alpha = 0.05\n",
    "# теста Шапиро-Уилка для выборок\n",
    "shapiro_result_a = shapiro(group_date[group_date['group'] == 'A']['daily_check'])\n",
    "shapiro_result_b = shapiro(group_date[group_date['group'] == 'B']['daily_check'])\n",
    "print('p-value группы А', round(shapiro_result_a.pvalue, 2))\n",
    "print('p-value группы B', round(shapiro_result_b.pvalue, 2))\n",
    "\n",
    "\n",
    "if shapiro_result_a.pvalue < alpha or shapiro_result_b.pvalue < alpha:\n",
    "    print(\"Отвергаем нулевую гипотезу, что {}\".format(H0))\n",
    "    print(\"Альтернативная гипотеза H1: {}\".format(H1))\n",
    "else:\n",
    "    print(\"Принимаем нулевую гипотезу, что {}\".format(H0))\n"
   ]
  },
  {
   "attachments": {},
   "cell_type": "markdown",
   "id": "cbddecf9-4d15-4ff1-84e9-46c4d98fc1e0",
   "metadata": {
    "tags": []
   },
   "source": [
    "## **Задание 7.13.**\n",
    "\n",
    "Сравниваем варианты дизайна страницы по метрике среднего чека. \n",
    "\n",
    " "
   ]
  },
  {
   "cell_type": "code",
   "execution_count": 670,
   "id": "05d43f23-2c2d-4795-bb96-1ffbfe81c391",
   "metadata": {},
   "outputs": [
    {
     "name": "stdout",
     "output_type": "stream",
     "text": [
      "p-value: 0.0\n",
      "Отвергаем нулевую гипотезу, что ежедневные средние чеки в группах А и B равны\n",
      "Альтернативная гипотеза H1: ежедневный средний чек в группе А меньше чем в группе B\n"
     ]
    }
   ],
   "source": [
    "H0 = 'ежедневные средние чеки в группах А и B равны'\n",
    "H1 = 'ежедневный средний чек в группе А меньше чем в группе B'\n",
    "alpha = 0.05 \n",
    "# вычисляем результат T-теста для выборок\n",
    "results = ttest_ind(\n",
    "    a=group_date[group_date['group'] == 'A']['daily_check'],\n",
    "    b=group_date[group_date['group'] == 'B']['daily_check'], \n",
    "    alternative='less' # левосторонняя гипотеза\n",
    ")\n",
    "print('p-value:', round(results.pvalue, 2))\n",
    " \n",
    "if results.pvalue < alpha:\n",
    "    print(\"Отвергаем нулевую гипотезу, что {}\".format(H0))\n",
    "    print(\"Альтернативная гипотеза H1: {}\".format(H1))\n",
    "else:\n",
    "    print(\"Принимаем нулевую гипотезу, что {}\".format(H0))"
   ]
  },
  {
   "attachments": {},
   "cell_type": "markdown",
   "id": "8534ab25-68b8-48f7-b2c1-ef1b72d8a767",
   "metadata": {},
   "source": [
    " Так как полученное значение p-value меньше уровня значимости в 0.05, то можно заключить, что есть статистическая разница между ежедневными средними чеками в группах А и B."
   ]
  },
  {
   "attachments": {},
   "cell_type": "markdown",
   "id": "5e46c9a6-a943-48b4-ad72-935337469613",
   "metadata": {
    "tags": []
   },
   "source": [
    "## **Задание 7.14.**\n",
    "\n",
    "Построим 95%-ый доверительный интервал для среднего чека в каждой группе. \n",
    "\n"
   ]
  },
  {
   "cell_type": "code",
   "execution_count": 674,
   "id": "480430db-ffae-4aad-8e22-f5c70d4800b8",
   "metadata": {},
   "outputs": [
    {
     "name": "stdout",
     "output_type": "stream",
     "text": [
      "Доверительный интервал для среднего чека группы А: (79630, 82308)\n",
      "Доверительный интервал для среднего чека группы В: (87626, 89526)\n"
     ]
    }
   ],
   "source": [
    "# Функция вычисления доверительного интервала среднего значения\n",
    "def mean_check_conf_interval(n, x_mean, x_std, gamma=0.95):\n",
    "    k = n - 1 #число степеней свободы\n",
    "    alpha = 1 - gamma # уровень значимости\n",
    "    t_crit = -t.ppf(alpha/2, k) # t критическое\n",
    "    eps = t_crit * x_std / n**0.5 #погрешность\n",
    "    lower_bound = x_mean - eps # левая (нижняя) граница\n",
    "    upper_bound = x_mean + eps # правая (верхняя) граница\n",
    "    # возвращаем кортеж из округленных границ интервала\n",
    "    return round(lower_bound), round(upper_bound)\n",
    "\n",
    "n = group_date[group_date['group'] == 'A']['daily_check'].count()\n",
    "x_mean = group_date[group_date['group'] == 'A']['daily_check'].mean()\n",
    "x_std = group_date[group_date['group'] == 'A']['daily_check'].std()\n",
    "print('Доверительный интервал для среднего чека группы А:', mean_check_conf_interval(n, x_mean, x_std))\n",
    "\n",
    "n = group_date[group_date['group'] == 'B']['daily_check'].count()\n",
    "x_mean = group_date[group_date['group'] == 'B']['daily_check'].mean()\n",
    "x_std = group_date[group_date['group'] == 'B']['daily_check'].std()\n",
    "print('Доверительный интервал для среднего чека группы В:', mean_check_conf_interval(n, x_mean, x_std))"
   ]
  },
  {
   "attachments": {},
   "cell_type": "markdown",
   "id": "9f754d72",
   "metadata": {},
   "source": [
    "Между интервалами нет пересечения, из чего можно заключить, что средний чек группы В однозначно больше."
   ]
  },
  {
   "attachments": {},
   "cell_type": "markdown",
   "id": "c078852f-892f-42ed-8d78-73edf8eb1f5e",
   "metadata": {
    "tags": []
   },
   "source": [
    "## Вывод по проделанной работе"
   ]
  }
 ],
 "metadata": {
  "kernelspec": {
   "display_name": "Python 3 (ipykernel)",
   "language": "python",
   "name": "python3"
  },
  "language_info": {
   "codemirror_mode": {
    "name": "ipython",
    "version": 3
   },
   "file_extension": ".py",
   "mimetype": "text/x-python",
   "name": "python",
   "nbconvert_exporter": "python",
   "pygments_lexer": "ipython3",
   "version": "3.11.1"
  }
 },
 "nbformat": 4,
 "nbformat_minor": 5
}
